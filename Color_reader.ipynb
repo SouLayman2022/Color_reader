{
 "cells": [
  {
   "cell_type": "markdown",
   "metadata": {},
   "source": [
    "<div style=\"text-align:center;font-size: 32px; background: -webkit-linear-gradient(#00f, #8a2be2); -webkit-background-clip: text; -webkit-text-fill-color: transparent;\">\n",
    "    <h1>Introduction to project</h1>\n",
    "    <img src=\"Color_robot.png\" style=\"height: 260px;\">\n",
    "  </div>\n",
    "  </br>\n",
    "  <span style=\"font-size: 20px;background: -webkit-linear-gradient(#00f, #00ced1); -webkit-background-clip: text; -webkit-text-fill-color: transparent; \">\n",
    "    - What is Colour Detection project?\n",
    "  </span>\n",
    "  </br>\n",
    "  <span style=\"font-size:20px;background: -webkit-linear-gradient(#87CEEB, #6495ED); -webkit-background-clip: text; -webkit-text-fill-color: transparent;\"> \n",
    "    - Color detecton project is a color detection project i did using two python's libraries : Pandas and OpenCV,\n",
    "    </span>\n",
    "  </br>\n",
    "  <span style=\"font-size:20px;background: -webkit-linear-gradient(#00bfff, #8a2be2); -webkit-background-clip: text; -webkit-text-fill-color: transparent;\"> \n",
    "    - For humans this is an extremely easy task but for computers, it is not straightforward.</br>\n",
    "    Human eyes and brains work together to translate light into color.</br>\n",
    "    Light receptors that are present in our eyes transmit the signal to the brain.</br>\n",
    "    Our brain then recognizes the color. Since childhood, we have mapped certain lights with their color names. We will be using the somewhat same strategy to detect color names.\n",
    "    </span>\n",
    "    </br>"
   ]
  },
  {
   "cell_type": "markdown",
   "metadata": {},
   "source": [
    "<div style=\"text-align:center;font-size: 32px; background: -webkit-linear-gradient(#00f, #00ced1); -webkit-background-clip: text; -webkit-text-fill-color: transparent;\">\n",
    "    <h1>About the project</h1>\n",
    "  </div>\n",
    "  <span style=\"font-size: 20px;background: -webkit-linear-gradient(#00f, #00ced1); -webkit-background-clip: text; -webkit-text-fill-color: transparent;\">\n",
    "    - We are going to build an application through which you can automatically get the name of the color by clicking on them. So for this, we will have a data file that contains the color name and its values. Then we will calculate the distance from each color and find the shortest one.\n",
    "  </span>"
   ]
  },
  {
   "cell_type": "markdown",
   "metadata": {},
   "source": [
    "\n",
    "## \n",
    "<span style=\"text-align:center;font-size: 32px; background: -webkit-linear-gradient(#8a2be2, #ba55d3); -webkit-background-clip: text; -webkit-text-fill-color: transparent;\">\n",
    "Importing :\n",
    "</span>"
   ]
  },
  {
   "cell_type": "code",
   "execution_count": 5,
   "metadata": {},
   "outputs": [],
   "source": [
    "import tkinter as tk\n",
    "from tkinter import filedialog, messagebox\n",
    "import cv2\n",
    "import pandas as pd"
   ]
  },
  {
   "cell_type": "markdown",
   "metadata": {},
   "source": [
    "<div style=\"text-align:center;font-size: 32px; background: -webkit-linear-gradient(#8a2be2, #ba55d3); -webkit-background-clip: text; -webkit-text-fill-color: transparent;\">\n",
    "    <h1>Our dataset</h1>\n",
    "  </div>\n",
    "  <span style=\"font-size: 20px; background: -webkit-linear-gradient(#8a2be2, #ba55d3); -webkit-background-clip: text; -webkit-text-fill-color: transparent;\">\n",
    "    - Colors are made up of 3 primary colors; red, green, and blue.</br>\n",
    "    - In computers, we define each color value within a range of 0 to 255. which means we can define 256*256*256 = 16,581,375 colors.</br>\n",
    "    - There are approximately 16.5 million different ways to represent a color. In our dataset, we need to map each color’s values with their corresponding names.</br>\n",
    "    - We don’t need to map all the values. We will be using a dataset that contains RGB values with their corresponding names. The CSV file for our dataset has been taken from this link:    \n",
    "  </span>\n",
    "<a>https://github.com/SouLayman2022/Color_reader/blob/main/colors.csv</a></br>\n",
    "<span style=\"font-size: 20px; background: -webkit-linear-gradient(#8a2be2, #ba55d3); -webkit-background-clip: text; -webkit-text-fill-color: transparent;\">\n",
    "- The colors.csv file includes 865 color names along with their RGB and hex values.\n",
    "</span>"
   ]
  },
  {
   "cell_type": "markdown",
   "metadata": {},
   "source": [
    "<span style=\"text-align:center;font-size: 32px; background: -webkit-linear-gradient(#8a2be2, #ba55d3); -webkit-background-clip: text; -webkit-text-fill-color: transparent;\">\n",
    "Steps : </br>\n",
    "Exploring the dataset :\n",
    "</span>"
   ]
  },
  {
   "cell_type": "code",
   "execution_count": 6,
   "metadata": {},
   "outputs": [
    {
     "data": {
      "text/html": [
       "<div>\n",
       "<style scoped>\n",
       "    .dataframe tbody tr th:only-of-type {\n",
       "        vertical-align: middle;\n",
       "    }\n",
       "\n",
       "    .dataframe tbody tr th {\n",
       "        vertical-align: top;\n",
       "    }\n",
       "\n",
       "    .dataframe thead th {\n",
       "        text-align: right;\n",
       "    }\n",
       "</style>\n",
       "<table border=\"1\" class=\"dataframe\">\n",
       "  <thead>\n",
       "    <tr style=\"text-align: right;\">\n",
       "      <th></th>\n",
       "      <th>air_force_blue_raf</th>\n",
       "      <th>Air Force Blue (Raf)</th>\n",
       "      <th>#5d8aa8</th>\n",
       "      <th>93</th>\n",
       "      <th>138</th>\n",
       "      <th>168</th>\n",
       "    </tr>\n",
       "  </thead>\n",
       "  <tbody>\n",
       "    <tr>\n",
       "      <th>0</th>\n",
       "      <td>air_force_blue_usaf</td>\n",
       "      <td>Air Force Blue (Usaf)</td>\n",
       "      <td>#00308f</td>\n",
       "      <td>0</td>\n",
       "      <td>48</td>\n",
       "      <td>143</td>\n",
       "    </tr>\n",
       "    <tr>\n",
       "      <th>1</th>\n",
       "      <td>air_superiority_blue</td>\n",
       "      <td>Air Superiority Blue</td>\n",
       "      <td>#72a0c1</td>\n",
       "      <td>114</td>\n",
       "      <td>160</td>\n",
       "      <td>193</td>\n",
       "    </tr>\n",
       "    <tr>\n",
       "      <th>2</th>\n",
       "      <td>alabama_crimson</td>\n",
       "      <td>Alabama Crimson</td>\n",
       "      <td>#a32638</td>\n",
       "      <td>163</td>\n",
       "      <td>38</td>\n",
       "      <td>56</td>\n",
       "    </tr>\n",
       "    <tr>\n",
       "      <th>3</th>\n",
       "      <td>alice_blue</td>\n",
       "      <td>Alice Blue</td>\n",
       "      <td>#f0f8ff</td>\n",
       "      <td>240</td>\n",
       "      <td>248</td>\n",
       "      <td>255</td>\n",
       "    </tr>\n",
       "    <tr>\n",
       "      <th>4</th>\n",
       "      <td>alizarin_crimson</td>\n",
       "      <td>Alizarin Crimson</td>\n",
       "      <td>#e32636</td>\n",
       "      <td>227</td>\n",
       "      <td>38</td>\n",
       "      <td>54</td>\n",
       "    </tr>\n",
       "  </tbody>\n",
       "</table>\n",
       "</div>"
      ],
      "text/plain": [
       "     air_force_blue_raf   Air Force Blue (Raf)  #5d8aa8   93  138  168\n",
       "0   air_force_blue_usaf  Air Force Blue (Usaf)  #00308f    0   48  143\n",
       "1  air_superiority_blue   Air Superiority Blue  #72a0c1  114  160  193\n",
       "2       alabama_crimson        Alabama Crimson  #a32638  163   38   56\n",
       "3            alice_blue             Alice Blue  #f0f8ff  240  248  255\n",
       "4      alizarin_crimson       Alizarin Crimson  #e32636  227   38   54"
      ]
     },
     "execution_count": 6,
     "metadata": {},
     "output_type": "execute_result"
    }
   ],
   "source": [
    "df = pd.read_csv(\"colors.csv\")\n",
    "df.head()"
   ]
  },
  {
   "cell_type": "markdown",
   "metadata": {},
   "source": [
    "<span style=\"text-align:center;font-size: 32px; background: -webkit-linear-gradient(#8a2be2, #ba55d3); -webkit-background-clip: text; -webkit-text-fill-color: transparent;\">\n",
    "Taking an image from the user : </br>\n",
    "</span>"
   ]
  },
  {
   "cell_type": "code",
   "execution_count": 9,
   "metadata": {},
   "outputs": [],
   "source": [
    "def choose_image():\n",
    "    file_path = filedialog.askopenfilename()\n",
    "    return file_path"
   ]
  },
  {
   "cell_type": "markdown",
   "metadata": {},
   "source": [
    "<span style=\"text-align:center;font-size: 32px; background: -webkit-linear-gradient(#8a2be2, #ba55d3); -webkit-background-clip: text; -webkit-text-fill-color: transparent;\">\n",
    "Read the CSV file with pandas : </br>\n",
    "</span>"
   ]
  },
  {
   "cell_type": "code",
   "execution_count": 8,
   "metadata": {},
   "outputs": [],
   "source": [
    "def getColorName(R, G, B, csv_data):\n",
    "    minimum_distance = float('inf')\n",
    "    closest_color = None\n",
    "\n",
    "    for i, row in csv_data.iterrows():\n",
    "        d = abs(R - row.iloc[3]) + abs(G - row.iloc[4]) + abs(B - row.iloc[5])\n",
    "        if d < minimum_distance:\n",
    "            minimum_distance = d\n",
    "            closest_color = row[1]\n",
    "\n",
    "    return closest_color"
   ]
  },
  {
   "cell_type": "markdown",
   "metadata": {},
   "source": [
    "<span style=\"text-align:center;font-size: 32px; background: -webkit-linear-gradient(#8a2be2, #ba55d3); -webkit-background-clip: text; -webkit-text-fill-color: transparent;\">\n",
    "Match mouse click with the CSV file : </br>\n",
    "</span>"
   ]
  },
  {
   "cell_type": "code",
   "execution_count": 10,
   "metadata": {},
   "outputs": [],
   "source": [
    "def match_colors(image_path, csv_path):\n",
    "    # Read the image\n",
    "    img = cv2.imread(image_path)\n",
    "    if img is None:\n",
    "        messagebox.showerror(\"Error\", \"Unable to read the image.\")\n",
    "        return\n",
    "\n",
    "    # Read the CSV file\n",
    "    csv_data = pd.read_csv(csv_path)\n",
    "\n",
    "    # Function to handle mouse click events\n",
    "    def on_mouse_click(event, x, y, flags, param):\n",
    "        if event == cv2.EVENT_LBUTTONDOWN:\n",
    "            # Get the RGB values of the clicked pixel\n",
    "            b, g, r = img[y, x]\n",
    "\n",
    "            # Compare the RGB values with colors from the CSV file\n",
    "            color_name = getColorName(r, g, b, csv_data)  # Pass the CSV data\n",
    "            messagebox.showinfo(\"Color\", f\"The color is {color_name}\")\n",
    "\n",
    "    # Display the image\n",
    "    cv2.imshow(\"Image\", img)\n",
    "    \n",
    "    # Set mouse callback function\n",
    "    cv2.setMouseCallback(\"Image\", on_mouse_click)\n",
    "\n",
    "    # Wait for a key press to close the window\n",
    "    cv2.waitKey(0)\n",
    "    cv2.destroyAllWindows()"
   ]
  },
  {
   "cell_type": "markdown",
   "metadata": {},
   "source": [
    "<span style=\"text-align:center;font-size: 32px; background: -webkit-linear-gradient(#8a2be2, #ba55d3); -webkit-background-clip: text; -webkit-text-fill-color: transparent;\">\n",
    "Set a mouse callback event on a window : </br>\n",
    "</span>"
   ]
  },
  {
   "cell_type": "code",
   "execution_count": 11,
   "metadata": {},
   "outputs": [],
   "source": [
    "def on_button_click():\n",
    "    # Choose an image file\n",
    "    image_path = choose_image()\n",
    "    if image_path:\n",
    "        # Match colors from the image with colors from the CSV file\n",
    "        match_colors(image_path, \"colors.csv\")"
   ]
  },
  {
   "cell_type": "markdown",
   "metadata": {},
   "source": [
    "<span style=\"text-align:center;font-size: 32px; background: -webkit-linear-gradient(#8a2be2, #ba55d3); -webkit-background-clip: text; -webkit-text-fill-color: transparent;\">\n",
    "Create a GUI using Tkinter : </br>\n",
    "</span>"
   ]
  },
  {
   "cell_type": "code",
   "execution_count": 12,
   "metadata": {},
   "outputs": [
    {
     "data": {
      "text/plain": [
       "''"
      ]
     },
     "execution_count": 12,
     "metadata": {},
     "output_type": "execute_result"
    }
   ],
   "source": [
    "root = tk.Tk()\n",
    "root.title(\"Color Matcher\")\n",
    "root.geometry(\"400x200\") #window ssize"
   ]
  },
  {
   "cell_type": "markdown",
   "metadata": {},
   "source": [
    "<span style=\"text-align:center;font-size: 32px; background: -webkit-linear-gradient(#8a2be2, #ba55d3); -webkit-background-clip: text; -webkit-text-fill-color: transparent;\">\n",
    "Create import button : </br>\n",
    "</span>"
   ]
  },
  {
   "cell_type": "code",
   "execution_count": 13,
   "metadata": {},
   "outputs": [],
   "source": [
    "button = tk.Button(root, text=\"Choose Image\", command=on_button_click)\n",
    "button.pack()"
   ]
  },
  {
   "cell_type": "markdown",
   "metadata": {},
   "source": [
    "<span style=\"text-align:center;font-size: 32px; background: -webkit-linear-gradient(#8a2be2, #ba55d3); -webkit-background-clip: text; -webkit-text-fill-color: transparent;\">\n",
    "And we are done, just Run Python File ! </br>\n",
    "</span>"
   ]
  }
 ],
 "metadata": {
  "kernelspec": {
   "display_name": "Python 3",
   "language": "python",
   "name": "python3"
  },
  "language_info": {
   "codemirror_mode": {
    "name": "ipython",
    "version": 3
   },
   "file_extension": ".py",
   "mimetype": "text/x-python",
   "name": "python",
   "nbconvert_exporter": "python",
   "pygments_lexer": "ipython3",
   "version": "3.12.2"
  }
 },
 "nbformat": 4,
 "nbformat_minor": 2
}
