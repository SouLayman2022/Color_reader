{
 "cells": [
  {
   "cell_type": "markdown",
   "metadata": {},
   "source": [
    "<div style=\"text-align:center;font-size: 32px; background: -webkit-linear-gradient(#00f, #8a2be2); -webkit-background-clip: text; -webkit-text-fill-color: transparent;\">\n",
    "    <h1>Introduction to project</h1>\n",
    "    <img src=\"Color_robot.png\" style=\"height: 260px;\">\n",
    "  </div>\n",
    "  </br>\n",
    "  <span style=\"font-size: 20px;background: -webkit-linear-gradient(#00f, #00ced1); -webkit-background-clip: text; -webkit-text-fill-color: transparent; \">\n",
    "    - What is Colour Detection project?\n",
    "  </span>\n",
    "  </br>\n",
    "  <span style=\"font-size:20px;background: -webkit-linear-gradient(#87CEEB, #6495ED); -webkit-background-clip: text; -webkit-text-fill-color: transparent;\"> \n",
    "    - Color detecton project is a machine learning project i did using two python's libraries : Pandas and OpenCV,\n",
    "    </span>\n",
    "  </br>\n",
    "  <span style=\"font-size:20px;background: -webkit-linear-gradient(#00bfff, #8a2be2); -webkit-background-clip: text; -webkit-text-fill-color: transparent;\"> \n",
    "    - For humans this is an extremely easy task but for computers, it is not straightforward.</br>\n",
    "    Human eyes and brains work together to translate light into color.</br>\n",
    "    Light receptors that are present in our eyes transmit the signal to the brain.</br>\n",
    "    Our brain then recognizes the color. Since childhood, we have mapped certain lights with their color names. We will be using the somewhat same strategy to detect color names.\n",
    "    </span>\n",
    "    </br>"
   ]
  },
  {
   "cell_type": "markdown",
   "metadata": {},
   "source": [
    "<div style=\"text-align:center;font-size: 32px; background: -webkit-linear-gradient(#00f, #00ced1); -webkit-background-clip: text; -webkit-text-fill-color: transparent;\">\n",
    "    <h1>About the project</h1>\n",
    "  </div>\n",
    "  <span style=\"font-size: 20px;background: -webkit-linear-gradient(#00f, #00ced1); -webkit-background-clip: text; -webkit-text-fill-color: transparent;\">\n",
    "    - We are going to build an application through which you can automatically get the name of the color by clicking on them. So for this, we will have a data file that contains the color name and its values. Then we will calculate the distance from each color and find the shortest one.\n",
    "  </span>"
   ]
  },
  {
   "cell_type": "markdown",
   "metadata": {},
   "source": [
    "<div style=\"text-align:center;font-size: 32px; background: -webkit-linear-gradient(#8a2be2, #ba55d3); -webkit-background-clip: text; -webkit-text-fill-color: transparent;\">\n",
    "    <h1>Our dataset</h1>\n",
    "  </div>\n",
    "  </br>\n",
    "  <span style=\"font-size: 20px; background: -webkit-linear-gradient(#8a2be2, #ba55d3); -webkit-background-clip: text; -webkit-text-fill-color: transparent;\">\n",
    "    - Colors are made up of 3 primary colors; red, green, and blue.</br>\n",
    "    - In computers, we define each color value within a range of 0 to 255. which means we can define 256*256*256 = 16,581,375 colors.</br>\n",
    "    - There are approximately 16.5 million different ways to represent a color. In our dataset, we need to map each color’s values with their corresponding names.</br>\n",
    "    - We don’t need to map all the values. We will be using a dataset that contains RGB values with their corresponding names. The CSV file for our dataset has been taken from this link:\n",
    "    \n",
    "  </span>"
   ]
  }
 ],
 "metadata": {
  "language_info": {
   "name": "python"
  }
 },
 "nbformat": 4,
 "nbformat_minor": 2
}
